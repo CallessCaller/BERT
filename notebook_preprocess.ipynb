{
 "cells": [
  {
   "cell_type": "code",
   "execution_count": 26,
   "metadata": {},
   "outputs": [],
   "source": [
    "import tensorflow as tf\n",
    "import sentencepiece as spm\n",
    "import numpy as np\n",
    "import pickle\n",
    "import gzip\n",
    "\n",
    "from tqdm import tqdm"
   ]
  },
  {
   "cell_type": "code",
   "execution_count": 27,
   "metadata": {},
   "outputs": [
    {
     "data": {
      "text/plain": [
       "True"
      ]
     },
     "execution_count": 27,
     "metadata": {},
     "output_type": "execute_result"
    }
   ],
   "source": [
    "path = '/hdd/user16/HT/'\n",
    "\n",
    "spm_model = './30k-clean.model'\n",
    "sp = spm.SentencePieceProcessor()\n",
    "sp.load(spm_model)"
   ]
  },
  {
   "cell_type": "code",
   "execution_count": 28,
   "metadata": {},
   "outputs": [],
   "source": [
    "max_seq = 256"
   ]
  },
  {
   "cell_type": "code",
   "execution_count": 29,
   "metadata": {
    "scrolled": false
   },
   "outputs": [],
   "source": [
    "pad = sp.piece_to_id('<pad>')\n",
    "unk = sp.piece_to_id('<unk>')\n",
    "CLS = sp.piece_to_id('[CLS]')\n",
    "SEP = sp.piece_to_id('[SEP]')\n",
    "MASK = sp.piece_to_id('[MASK]')"
   ]
  },
  {
   "cell_type": "code",
   "execution_count": 34,
   "metadata": {
    "scrolled": true
   },
   "outputs": [
    {
     "name": "stderr",
     "output_type": "stream",
     "text": [
      "10000000it [15:16, 10914.00it/s]\n"
     ]
    },
    {
     "name": "stdout",
     "output_type": "stream",
     "text": [
      "(7583456, 256) (7583456,) (7583456,) (7583456,)\n"
     ]
    },
    {
     "name": "stderr",
     "output_type": "stream",
     "text": [
      "10000000it [13:48, 12073.51it/s]\n"
     ]
    },
    {
     "name": "stdout",
     "output_type": "stream",
     "text": [
      "(7678516, 256) (7678516,) (7678516,) (7678516,)\n"
     ]
    },
    {
     "name": "stderr",
     "output_type": "stream",
     "text": [
      "10000000it [13:14, 12586.39it/s]\n"
     ]
    },
    {
     "name": "stdout",
     "output_type": "stream",
     "text": [
      "(7610747, 256) (7610747,) (7610747,) (7610747,)\n"
     ]
    },
    {
     "name": "stderr",
     "output_type": "stream",
     "text": [
      "10000000it [12:16, 13580.57it/s]\n"
     ]
    },
    {
     "name": "stdout",
     "output_type": "stream",
     "text": [
      "(7607751, 256) (7607751,) (7607751,) (7607751,)\n"
     ]
    },
    {
     "name": "stderr",
     "output_type": "stream",
     "text": [
      "10000000it [11:47, 14127.47it/s]\n"
     ]
    },
    {
     "name": "stdout",
     "output_type": "stream",
     "text": [
      "(7698200, 256) (7698200,) (7698200,) (7698200,)\n"
     ]
    },
    {
     "name": "stderr",
     "output_type": "stream",
     "text": [
      "6561002it [07:19, 14928.28it/s]\n"
     ]
    },
    {
     "name": "stdout",
     "output_type": "stream",
     "text": [
      "(5062123, 256) (5062123,) (5062123,) (5062123,)\n"
     ]
    }
   ],
   "source": [
    "#TODO: NSP 만들고, 레이블 생성\n",
    "#file_names = ['xaa', 'xab', 'xac', 'xad', 'xae', 'xaf', 'xag']\n",
    "file_names = ['xab', 'xac', 'xad', 'xae', 'xaf', 'xag']\n",
    "files = [path+x for x in file_names]\n",
    "\n",
    "# read data\n",
    "\n",
    "for idx, file in enumerate(files):\n",
    "    nsp = []\n",
    "    nsp_label = []\n",
    "\n",
    "    sep_positions = []\n",
    "    sep_zeros = [0 for _ in range(max_seq)]\n",
    "    sep_ones = [1 for _ in range(max_seq)]\n",
    "\n",
    "    masks = []\n",
    "    pads = [0 for _ in range(max_seq)]\n",
    "\n",
    "    with open(file, 'r') as f:\n",
    "        current_head = 1e9\n",
    "        prev_line = ''\n",
    "        for i, x in enumerate(tqdm(f)):\n",
    "            if i == (current_head+1):\n",
    "                continue\n",
    "            if x == '\\n':\n",
    "                current_head = i\n",
    "                \n",
    "            line = x[:-1]\n",
    "            line = sp.EncodeAsIds(line)            \n",
    "            \n",
    "            if i == 0:\n",
    "                prev_line = line\n",
    "            else:\n",
    "                if len(line) + len(prev_line) <= max_seq - 2:\n",
    "                    if np.random.rand(1) < 0.5:\n",
    "                        tmp = [CLS] +  line + [SEP] + prev_line\n",
    "                        nsp_label.append(1)\n",
    "                    else:\n",
    "                        tmp = [CLS] +  prev_line + [SEP] + line\n",
    "                        nsp_label.append(0)\n",
    "                        \n",
    "                    masks.append(len(tmp))\n",
    "                    \n",
    "                    tmp = tmp + pads[len(tmp):]\n",
    "                    nsp.append(tmp)                 \n",
    "                    \n",
    "                    sep_position = tmp.index(SEP)                 \n",
    "                    sep_positions.append(sep_position)\n",
    "                prev_line = line\n",
    "        \n",
    "        nsp = np.array(nsp)\n",
    "        nsp_label = np.array(nsp_label)\n",
    "        sep_positions = np.array(sep_positions)\n",
    "        masks = np.array(masks)\n",
    "        \n",
    "        print(nsp.shape, nsp_label.shape, sep_positions.shape, masks.shape)\n",
    "        \n",
    "        with open(f'./data/{file_names[idx]}.pickle', 'wb') as ff:\n",
    "            pickle.dump(nsp, ff, protocol=4)\n",
    "            pickle.dump(nsp_label, ff, protocol=4)\n",
    "            pickle.dump(sep_positions, ff, protocol=4)\n",
    "            pickle.dump(masks, ff, protocol=4)"
   ]
  },
  {
   "cell_type": "code",
   "execution_count": 32,
   "metadata": {},
   "outputs": [],
   "source": [
    "with gzip.open(f'./data/{file_names[idx]}.pickle', 'wb') as f:\n",
    "    pickle.dump(nsp, f, protocol=4)\n",
    "    pickle.dump(nsp_label, f, protocol=4)\n",
    "    pickle.dump(sep_positions, f, protocol=4)\n",
    "    pickle.dump(masks, f, protocol=4)"
   ]
  },
  {
   "cell_type": "code",
   "execution_count": 25,
   "metadata": {
    "scrolled": true
   },
   "outputs": [
    {
     "data": {
      "text/plain": [
       "array([[-0.78494951, -1.19990029,  0.39980795, -0.20708565, -0.25139225,\n",
       "         0.63747917, -1.08715843,  0.09835226, -0.55893874, -1.32569713],\n",
       "       [-2.28131739, -1.28306348,  0.46355663,  0.60456615, -0.25912351,\n",
       "        -1.92884701,  1.30761999,  0.3595043 , -2.04121625,  0.53387862],\n",
       "       [-0.71177076, -0.82135535,  0.35293037, -1.70557325, -0.23503857,\n",
       "         0.06883204,  1.52503056,  0.58358535,  1.2631964 ,  1.60097638],\n",
       "       [-1.0383294 ,  0.06083734, -1.21641578, -0.61748875, -0.21670945,\n",
       "         0.19150848,  0.29454754,  1.34198555, -0.09593865, -0.38558859],\n",
       "       [-0.54573941,  1.45375845,  0.23842658,  1.27977178, -0.58890031,\n",
       "         1.19754331,  1.92078301, -0.26031847,  0.55212242, -1.13969608],\n",
       "       [-0.98732033,  0.1863012 , -1.25211218,  0.00256408,  1.23306526,\n",
       "         0.29224557,  0.16778989, -1.18349694, -0.7401791 , -1.67392392],\n",
       "       [-0.0935759 , -1.95255944,  0.57663495,  0.44791249, -0.1300575 ,\n",
       "        -0.76260954, -0.52650226,  0.65557747, -1.18343363, -0.02054446],\n",
       "       [-0.41299581,  1.30805003, -1.55124413,  0.97230867, -0.1591484 ,\n",
       "        -0.35600525,  1.26066522, -0.5572306 ,  0.11383359,  0.09141453],\n",
       "       [-0.72504144,  2.19572904,  0.13967071,  0.27233163,  0.72730539,\n",
       "         0.99305766,  1.203612  ,  0.23885   , -0.25076159,  0.23153798],\n",
       "       [-0.68887721, -0.66013654,  2.47845642,  1.63902703,  0.82225827,\n",
       "        -1.759426  , -1.44394308,  1.75368526, -1.02093277,  0.46456876]])"
      ]
     },
     "execution_count": 25,
     "metadata": {},
     "output_type": "execute_result"
    }
   ],
   "source": [
    "np.random.randn(10,10)"
   ]
  },
  {
   "cell_type": "code",
   "execution_count": 22,
   "metadata": {},
   "outputs": [
    {
     "data": {
      "text/plain": [
       "'1.15.3'"
      ]
     },
     "execution_count": 22,
     "metadata": {},
     "output_type": "execute_result"
    }
   ],
   "source": [
    "tf.__version__"
   ]
  },
  {
   "cell_type": "code",
   "execution_count": null,
   "metadata": {},
   "outputs": [],
   "source": []
  }
 ],
 "metadata": {
  "kernelspec": {
   "display_name": "Python 3",
   "language": "python",
   "name": "python3"
  },
  "language_info": {
   "codemirror_mode": {
    "name": "ipython",
    "version": 3
   },
   "file_extension": ".py",
   "mimetype": "text/x-python",
   "name": "python",
   "nbconvert_exporter": "python",
   "pygments_lexer": "ipython3",
   "version": "3.7.3"
  }
 },
 "nbformat": 4,
 "nbformat_minor": 2
}